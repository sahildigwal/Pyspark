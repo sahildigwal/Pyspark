{
  "nbformat": 4,
  "nbformat_minor": 0,
  "metadata": {
    "colab": {
      "provenance": []
    },
    "kernelspec": {
      "name": "python3",
      "display_name": "Python 3"
    },
    "language_info": {
      "name": "python"
    }
  },
  "cells": [
    {
      "cell_type": "code",
      "execution_count": null,
      "metadata": {
        "colab": {
          "base_uri": "https://localhost:8080/"
        },
        "id": "Qr6kB96w2hOt",
        "outputId": "d419503f-483c-4636-a5e4-405c766edc72"
      },
      "outputs": [
        {
          "output_type": "stream",
          "name": "stdout",
          "text": [
            "Looking in indexes: https://pypi.org/simple, https://us-python.pkg.dev/colab-wheels/public/simple/\n",
            "Collecting pyspark\n",
            "  Downloading pyspark-3.3.0.tar.gz (281.3 MB)\n",
            "\u001b[K     |████████████████████████████████| 281.3 MB 65 kB/s \n",
            "\u001b[?25hCollecting py4j==0.10.9.5\n",
            "  Downloading py4j-0.10.9.5-py2.py3-none-any.whl (199 kB)\n",
            "\u001b[K     |████████████████████████████████| 199 kB 73.8 MB/s \n",
            "\u001b[?25hBuilding wheels for collected packages: pyspark\n",
            "  Building wheel for pyspark (setup.py) ... \u001b[?25l\u001b[?25hdone\n",
            "  Created wheel for pyspark: filename=pyspark-3.3.0-py2.py3-none-any.whl size=281764026 sha256=ec30643ed540101ffede7df3eef8a2e10be3a35dca8ba64c3a24cae9d4e3e7c6\n",
            "  Stored in directory: /root/.cache/pip/wheels/7a/8e/1b/f73a52650d2e5f337708d9f6a1750d451a7349a867f928b885\n",
            "Successfully built pyspark\n",
            "Installing collected packages: py4j, pyspark\n",
            "Successfully installed py4j-0.10.9.5 pyspark-3.3.0\n"
          ]
        }
      ],
      "source": [
        "!pip install pyspark "
      ]
    },
    {
      "cell_type": "code",
      "source": [
        "# Import SparkSession\n",
        "from pyspark.sql import SparkSession\n",
        "\n",
        "# Create SparkSession \n",
        "spark = SparkSession.builder \\\n",
        "      .master(\"local[1]\") \\\n",
        "      .appName(\"SparkByExamples.com\") \\\n",
        "      .getOrCreate() "
      ],
      "metadata": {
        "id": "Bu7cd09E21Ug"
      },
      "execution_count": null,
      "outputs": []
    },
    {
      "cell_type": "code",
      "source": [
        "\n",
        "filePath=\"/content/small_zipcode.csv\"\n",
        "df = spark.read.options(header='true', inferSchema='true') \\\n",
        "          .csv(filePath)\n",
        "\n",
        "df.printSchema()\n",
        "df.show(truncate=False)\n"
      ],
      "metadata": {
        "colab": {
          "base_uri": "https://localhost:8080/"
        },
        "id": "MbG_TIUO3JfK",
        "outputId": "ddff099d-037a-4ddf-c550-f5efe4d605b2"
      },
      "execution_count": null,
      "outputs": [
        {
          "output_type": "stream",
          "name": "stdout",
          "text": [
            "root\n",
            " |-- id: integer (nullable = true)\n",
            " |-- zipcode: integer (nullable = true)\n",
            " |-- type: string (nullable = true)\n",
            " |-- city: string (nullable = true)\n",
            " |-- state: string (nullable = true)\n",
            " |-- population: integer (nullable = true)\n",
            "\n",
            "+---+-------+--------+-------------------+-----+----------+\n",
            "|id |zipcode|type    |city               |state|population|\n",
            "+---+-------+--------+-------------------+-----+----------+\n",
            "|1  |704    |STANDARD|null               |PR   |30100     |\n",
            "|2  |704    |null    |PASEO COSTA DEL SUR|PR   |null      |\n",
            "|3  |709    |null    |BDA SAN LUIS       |PR   |3700      |\n",
            "|4  |76166  |UNIQUE  |CINGULAR WIRELESS  |TX   |84000     |\n",
            "|5  |76177  |STANDARD|null               |TX   |null      |\n",
            "+---+-------+--------+-------------------+-----+----------+\n",
            "\n"
          ]
        }
      ]
    },
    {
      "cell_type": "code",
      "source": [
        "\n",
        "#Replace 0 for null for all integer columns\n",
        "df.na.fill(value=0).show()\n",
        "\n",
        "#Replace 0 for null on only population column \n",
        "df.na.fill(value=0,subset=[\"population\"]).show()\n",
        "\n",
        "\n"
      ],
      "metadata": {
        "colab": {
          "base_uri": "https://localhost:8080/"
        },
        "id": "eVrqBHm93op-",
        "outputId": "f2697fed-4970-42a7-dcce-82afef186755"
      },
      "execution_count": null,
      "outputs": [
        {
          "output_type": "stream",
          "name": "stdout",
          "text": [
            "+---+-------+--------+-------------------+-----+----------+\n",
            "| id|zipcode|    type|               city|state|population|\n",
            "+---+-------+--------+-------------------+-----+----------+\n",
            "|  1|    704|STANDARD|               null|   PR|     30100|\n",
            "|  2|    704|    null|PASEO COSTA DEL SUR|   PR|         0|\n",
            "|  3|    709|    null|       BDA SAN LUIS|   PR|      3700|\n",
            "|  4|  76166|  UNIQUE|  CINGULAR WIRELESS|   TX|     84000|\n",
            "|  5|  76177|STANDARD|               null|   TX|         0|\n",
            "+---+-------+--------+-------------------+-----+----------+\n",
            "\n",
            "+---+-------+--------+-------------------+-----+----------+\n",
            "| id|zipcode|    type|               city|state|population|\n",
            "+---+-------+--------+-------------------+-----+----------+\n",
            "|  1|    704|STANDARD|               null|   PR|     30100|\n",
            "|  2|    704|    null|PASEO COSTA DEL SUR|   PR|         0|\n",
            "|  3|    709|    null|       BDA SAN LUIS|   PR|      3700|\n",
            "|  4|  76166|  UNIQUE|  CINGULAR WIRELESS|   TX|     84000|\n",
            "|  5|  76177|STANDARD|               null|   TX|         0|\n",
            "+---+-------+--------+-------------------+-----+----------+\n",
            "\n"
          ]
        }
      ]
    },
    {
      "cell_type": "code",
      "source": [
        "#replace NULL/None values with an empty string or any constant values String on all DataFrame String columns\n",
        "df.na.fill(\"\").show()\n"
      ],
      "metadata": {
        "colab": {
          "base_uri": "https://localhost:8080/"
        },
        "id": "NE2orr1i38Zj",
        "outputId": "5f8084d4-4edc-43c8-d78c-3bf33b283012"
      },
      "execution_count": null,
      "outputs": [
        {
          "output_type": "stream",
          "name": "stdout",
          "text": [
            "+---+-------+--------+-------------------+-----+----------+\n",
            "| id|zipcode|    type|               city|state|population|\n",
            "+---+-------+--------+-------------------+-----+----------+\n",
            "|  1|    704|STANDARD|                   |   PR|     30100|\n",
            "|  2|    704|        |PASEO COSTA DEL SUR|   PR|      null|\n",
            "|  3|    709|        |       BDA SAN LUIS|   PR|      3700|\n",
            "|  4|  76166|  UNIQUE|  CINGULAR WIRELESS|   TX|     84000|\n",
            "|  5|  76177|STANDARD|                   |   TX|      null|\n",
            "+---+-------+--------+-------------------+-----+----------+\n",
            "\n"
          ]
        }
      ]
    },
    {
      "cell_type": "code",
      "source": [
        "# replace NULL’s on specific columns, below example replace column type with empty string and column city with value “unknown\n",
        "df.na.fill(\"unknown\",[\"city\"]) \\\n",
        "    .na.fill(\"\",[\"type\"]).show()\n"
      ],
      "metadata": {
        "colab": {
          "base_uri": "https://localhost:8080/"
        },
        "id": "qlXLzJdy4OSs",
        "outputId": "37c9a56a-04d0-4709-a96e-87c08638d88d"
      },
      "execution_count": null,
      "outputs": [
        {
          "output_type": "stream",
          "name": "stdout",
          "text": [
            "+---+-------+--------+-------------------+-----+----------+\n",
            "| id|zipcode|    type|               city|state|population|\n",
            "+---+-------+--------+-------------------+-----+----------+\n",
            "|  1|    704|STANDARD|            unknown|   PR|     30100|\n",
            "|  2|    704|        |PASEO COSTA DEL SUR|   PR|      null|\n",
            "|  3|    709|        |       BDA SAN LUIS|   PR|      3700|\n",
            "|  4|  76166|  UNIQUE|  CINGULAR WIRELESS|   TX|     84000|\n",
            "|  5|  76177|STANDARD|            unknown|   TX|      null|\n",
            "+---+-------+--------+-------------------+-----+----------+\n",
            "\n"
          ]
        }
      ]
    },
    {
      "cell_type": "code",
      "source": [
        "#another method\n",
        "df.na.fill({\"city\": \"unknown\", \"type\": \"\"}).show()\n"
      ],
      "metadata": {
        "colab": {
          "base_uri": "https://localhost:8080/"
        },
        "id": "igmc6AWZ4gDS",
        "outputId": "c9e6b8f5-723c-43b9-90a8-26624e906b35"
      },
      "execution_count": null,
      "outputs": [
        {
          "output_type": "stream",
          "name": "stdout",
          "text": [
            "+---+-------+--------+-------------------+-----+----------+\n",
            "| id|zipcode|    type|               city|state|population|\n",
            "+---+-------+--------+-------------------+-----+----------+\n",
            "|  1|    704|STANDARD|            unknown|   PR|     30100|\n",
            "|  2|    704|        |PASEO COSTA DEL SUR|   PR|      null|\n",
            "|  3|    709|        |       BDA SAN LUIS|   PR|      3700|\n",
            "|  4|  76166|  UNIQUE|  CINGULAR WIRELESS|   TX|     84000|\n",
            "|  5|  76177|STANDARD|            unknown|   TX|      null|\n",
            "+---+-------+--------+-------------------+-----+----------+\n",
            "\n"
          ]
        }
      ]
    },
    {
      "cell_type": "code",
      "source": [
        "\n",
        "from pyspark.sql import SparkSession\n",
        "spark = SparkSession.builder.appName('SparkByExamples.com').getOrCreate()\n",
        "\n",
        "data = [('James','Smith','M',30),('Anna','Rose','F',41),\n",
        "  ('Robert','Williams','M',62), \n",
        "]\n",
        "columns = [\"firstname\",\"lastname\",\"gender\",\"salary\"]\n",
        "df = spark.createDataFrame(data=data, schema = columns)\n",
        "df.show()\n"
      ],
      "metadata": {
        "colab": {
          "base_uri": "https://localhost:8080/"
        },
        "id": "_bFo4TXh5yo2",
        "outputId": "fe4d0ef4-66ef-4d8e-a662-b486b49e497e"
      },
      "execution_count": null,
      "outputs": [
        {
          "output_type": "stream",
          "name": "stdout",
          "text": [
            "+---------+--------+------+------+\n",
            "|firstname|lastname|gender|salary|\n",
            "+---------+--------+------+------+\n",
            "|    James|   Smith|     M|    30|\n",
            "|     Anna|    Rose|     F|    41|\n",
            "|   Robert|Williams|     M|    62|\n",
            "+---------+--------+------+------+\n",
            "\n"
          ]
        }
      ]
    },
    {
      "cell_type": "code",
      "source": [
        "#concat_with_string\n",
        "from pyspark.sql.functions import concat_ws,col,lit\n",
        "df.select(concat_ws(\",\",df.firstname,df.lastname).alias(\"name\"), \\\n",
        "          df.gender,lit(df.salary*2).alias(\"new_salary\")).show()\n",
        "\n",
        "\n",
        "\n"
      ],
      "metadata": {
        "colab": {
          "base_uri": "https://localhost:8080/"
        },
        "id": "Yl3Ya4bK535z",
        "outputId": "cfd4a874-a758-4eeb-f845-2e159031f507"
      },
      "execution_count": null,
      "outputs": [
        {
          "output_type": "stream",
          "name": "stdout",
          "text": [
            "+---------------+------+----------+\n",
            "|           name|gender|new_salary|\n",
            "+---------------+------+----------+\n",
            "|    James,Smith|     M|        60|\n",
            "|      Anna,Rose|     F|        82|\n",
            "|Robert,Williams|     M|       124|\n",
            "+---------------+------+----------+\n",
            "\n"
          ]
        }
      ]
    },
    {
      "cell_type": "code",
      "source": [
        "# Refering columns by index.\n",
        "rdd=df.rdd.map(lambda x: \n",
        "    (x[0]+\",\"+x[1],x[2],x[3]*2)\n",
        "    )  \n",
        "df2=rdd.toDF([\"name\",\"gender\",\"new_salary\"])\n",
        "df2.show()\n"
      ],
      "metadata": {
        "colab": {
          "base_uri": "https://localhost:8080/"
        },
        "id": "UUMYwTDY6sJ6",
        "outputId": "f874daae-0692-4667-c592-8f218973a786"
      },
      "execution_count": null,
      "outputs": [
        {
          "output_type": "stream",
          "name": "stdout",
          "text": [
            "+---------------+------+----------+\n",
            "|           name|gender|new_salary|\n",
            "+---------------+------+----------+\n",
            "|    James,Smith|     M|        60|\n",
            "|      Anna,Rose|     F|        82|\n",
            "|Robert,Williams|     M|       124|\n",
            "+---------------+------+----------+\n",
            "\n"
          ]
        }
      ]
    },
    {
      "cell_type": "code",
      "source": [
        "# Referring Column Names\n",
        "rdd2=df.rdd.map(lambda x: \n",
        "    (x[\"firstname\"]+\",\"+x[\"lastname\"],x[\"gender\"],x[\"salary\"]*2)\n",
        "    )\n",
        "df2=rdd2.toDF([\"name\",\"gender\",\"new_salary\"])\n",
        "df2.show() \n"
      ],
      "metadata": {
        "colab": {
          "base_uri": "https://localhost:8080/"
        },
        "id": "mkfYaXxY63Sz",
        "outputId": "72eac217-a1ec-4ada-c927-9758ece76aaa"
      },
      "execution_count": null,
      "outputs": [
        {
          "output_type": "stream",
          "name": "stdout",
          "text": [
            "+---------------+------+----------+\n",
            "|           name|gender|new_salary|\n",
            "+---------------+------+----------+\n",
            "|    James,Smith|     M|        60|\n",
            "|      Anna,Rose|     F|        82|\n",
            "|Robert,Williams|     M|       124|\n",
            "+---------------+------+----------+\n",
            "\n"
          ]
        }
      ]
    },
    {
      "cell_type": "code",
      "source": [
        "# Referring Column Names\n",
        "rdd2=df.rdd.map(lambda x: \n",
        "    (x.firstname+\",\"+x.lastname,x.gender,x.salary*2)) \n",
        "df2=rdd2.toDF([\"name\",\"gender\",\"new_salary\"])\n",
        "df2.show() \n"
      ],
      "metadata": {
        "colab": {
          "base_uri": "https://localhost:8080/"
        },
        "id": "Jo9t-JnD7gxU",
        "outputId": "84b98d62-6415-4a6f-bafb-c093e7a0f3b5"
      },
      "execution_count": null,
      "outputs": [
        {
          "output_type": "stream",
          "name": "stdout",
          "text": [
            "+---------------+------+----------+\n",
            "|           name|gender|new_salary|\n",
            "+---------------+------+----------+\n",
            "|    James,Smith|     M|        60|\n",
            "|      Anna,Rose|     F|        82|\n",
            "|Robert,Williams|     M|       124|\n",
            "+---------------+------+----------+\n",
            "\n"
          ]
        }
      ]
    },
    {
      "cell_type": "code",
      "source": [
        "# Using pandas to iterate through rows\n",
        "import pandas as pd\n",
        "spark.conf.set(\"spark.sql.execution.arrow.enabled\", \"true\")\n",
        "pandasDF = df.toPandas()\n",
        "for index, row in pandasDF.iterrows():\n",
        "    print(row['firstname'], row['gender'])\n"
      ],
      "metadata": {
        "colab": {
          "base_uri": "https://localhost:8080/"
        },
        "id": "A-RSTvOU7107",
        "outputId": "4c73ae9e-941a-45ce-91b7-f7e5f409bbd3"
      },
      "execution_count": null,
      "outputs": [
        {
          "output_type": "stream",
          "name": "stdout",
          "text": [
            "James M\n",
            "Anna F\n",
            "Robert M\n"
          ]
        }
      ]
    },
    {
      "cell_type": "code",
      "source": [
        "import pyspark\n",
        "from pyspark.sql import SparkSession\n",
        "from pyspark.sql.functions import expr\n",
        "#Create spark session\n",
        "data = [(\"Banana\",1000,\"USA\"), (\"Carrots\",1500,\"USA\"), (\"Beans\",1600,\"USA\"), \\\n",
        "      (\"Orange\",2000,\"USA\"),(\"Orange\",2000,\"USA\"),(\"Banana\",400,\"China\"), \\\n",
        "      (\"Carrots\",1200,\"China\"),(\"Beans\",1500,\"China\"),(\"Orange\",4000,\"China\"), \\\n",
        "      (\"Banana\",2000,\"Canada\"),(\"Carrots\",2000,\"Canada\"),(\"Beans\",2000,\"Mexico\")]\n",
        "\n",
        "columns= [\"Product\",\"Amount\",\"Country\"]\n",
        "df = spark.createDataFrame(data = data, schema = columns)\n",
        "df.printSchema()\n",
        "df.show(truncate=False)\n"
      ],
      "metadata": {
        "colab": {
          "base_uri": "https://localhost:8080/"
        },
        "id": "UidhnzFU9B3G",
        "outputId": "0d2d24fa-28a9-47ae-a97f-efd03d2a9973"
      },
      "execution_count": null,
      "outputs": [
        {
          "output_type": "stream",
          "name": "stdout",
          "text": [
            "root\n",
            " |-- Product: string (nullable = true)\n",
            " |-- Amount: long (nullable = true)\n",
            " |-- Country: string (nullable = true)\n",
            "\n",
            "+-------+------+-------+\n",
            "|Product|Amount|Country|\n",
            "+-------+------+-------+\n",
            "|Banana |1000  |USA    |\n",
            "|Carrots|1500  |USA    |\n",
            "|Beans  |1600  |USA    |\n",
            "|Orange |2000  |USA    |\n",
            "|Orange |2000  |USA    |\n",
            "|Banana |400   |China  |\n",
            "|Carrots|1200  |China  |\n",
            "|Beans  |1500  |China  |\n",
            "|Orange |4000  |China  |\n",
            "|Banana |2000  |Canada |\n",
            "|Carrots|2000  |Canada |\n",
            "|Beans  |2000  |Mexico |\n",
            "+-------+------+-------+\n",
            "\n"
          ]
        }
      ]
    },
    {
      "cell_type": "code",
      "source": [
        "pivotDF = df.groupBy(\"Product\").pivot(\"Country\").sum(\"Amount\")\n",
        "pivotDF.printSchema()\n",
        "pivotDF.show(truncate=False)\n"
      ],
      "metadata": {
        "colab": {
          "base_uri": "https://localhost:8080/"
        },
        "id": "b8G5Y0uV_JRW",
        "outputId": "2b0e094b-3990-42a8-b2e3-aa5f7e9ccf2e"
      },
      "execution_count": null,
      "outputs": [
        {
          "output_type": "stream",
          "name": "stdout",
          "text": [
            "root\n",
            " |-- Product: string (nullable = true)\n",
            " |-- Canada: long (nullable = true)\n",
            " |-- China: long (nullable = true)\n",
            " |-- Mexico: long (nullable = true)\n",
            " |-- USA: long (nullable = true)\n",
            "\n",
            "+-------+------+-----+------+----+\n",
            "|Product|Canada|China|Mexico|USA |\n",
            "+-------+------+-----+------+----+\n",
            "|Orange |null  |4000 |null  |4000|\n",
            "|Beans  |null  |1500 |2000  |1600|\n",
            "|Banana |2000  |400  |null  |1000|\n",
            "|Carrots|2000  |1200 |null  |1500|\n",
            "+-------+------+-----+------+----+\n",
            "\n"
          ]
        }
      ]
    },
    {
      "cell_type": "code",
      "source": [
        "#another method \n",
        "countries = [\"USA\",\"China\",\"Canada\",\"Mexico\"]\n",
        "pivotDF = df.groupBy(\"Product\").pivot(\"Country\", countries).sum(\"Amount\")\n",
        "pivotDF.show(truncate=False)\n"
      ],
      "metadata": {
        "colab": {
          "base_uri": "https://localhost:8080/"
        },
        "id": "rL6vMC-g_iMe",
        "outputId": "33fcfe09-c984-4252-f5f1-076460b10629"
      },
      "execution_count": null,
      "outputs": [
        {
          "output_type": "stream",
          "name": "stdout",
          "text": [
            "+-------+----+-----+------+------+\n",
            "|Product|USA |China|Canada|Mexico|\n",
            "+-------+----+-----+------+------+\n",
            "|Orange |4000|4000 |null  |null  |\n",
            "|Beans  |1600|1500 |null  |2000  |\n",
            "|Banana |1000|400  |2000  |null  |\n",
            "|Carrots|1500|1200 |2000  |null  |\n",
            "+-------+----+-----+------+------+\n",
            "\n"
          ]
        }
      ]
    },
    {
      "cell_type": "code",
      "source": [
        "from pyspark.sql.functions import expr\n",
        "unpivotExpr = \"stack(3, 'Canada', Canada, 'China', China, 'Mexico', Mexico) as (Country,Total)\"\n",
        "unPivotDF = pivotDF.select(\"Product\", expr(unpivotExpr)) \\\n",
        "    .where(\"Total is not null\")\n",
        "unPivotDF.show(truncate=False)\n",
        "unPivotDF.show()"
      ],
      "metadata": {
        "colab": {
          "base_uri": "https://localhost:8080/"
        },
        "id": "_Jq0b5-pAiqZ",
        "outputId": "98065294-11c7-4344-e373-beaa35480a07"
      },
      "execution_count": null,
      "outputs": [
        {
          "output_type": "stream",
          "name": "stdout",
          "text": [
            "+-------+-------+-----+\n",
            "|Product|Country|Total|\n",
            "+-------+-------+-----+\n",
            "|Orange |China  |4000 |\n",
            "|Beans  |China  |1500 |\n",
            "|Beans  |Mexico |2000 |\n",
            "|Banana |Canada |2000 |\n",
            "|Banana |China  |400  |\n",
            "|Carrots|Canada |2000 |\n",
            "|Carrots|China  |1200 |\n",
            "+-------+-------+-----+\n",
            "\n",
            "+-------+-------+-----+\n",
            "|Product|Country|Total|\n",
            "+-------+-------+-----+\n",
            "| Orange|  China| 4000|\n",
            "|  Beans|  China| 1500|\n",
            "|  Beans| Mexico| 2000|\n",
            "| Banana| Canada| 2000|\n",
            "| Banana|  China|  400|\n",
            "|Carrots| Canada| 2000|\n",
            "|Carrots|  China| 1200|\n",
            "+-------+-------+-----+\n",
            "\n"
          ]
        }
      ]
    },
    {
      "cell_type": "code",
      "source": [
        "#Unpivot\n",
        "from pyspark.sql.functions import expr\n",
        "unpivotExpr = \"stack(4, 'Canada', Canada, 'China', China, 'Mexico', Mexico, 'USA', USA) as (Country,Total)\"\n",
        "unPivotDF = pivotDF.select(\"Product\", expr(unpivotExpr)) \\\n",
        "    .where(\"Total is not null\")\n",
        "unPivotDF.show(truncate=False)\n",
        "unPivotDF.show()"
      ],
      "metadata": {
        "colab": {
          "base_uri": "https://localhost:8080/"
        },
        "id": "INKZ6LboAm8U",
        "outputId": "4e50bd5d-c630-447f-883d-145bff5c975e"
      },
      "execution_count": null,
      "outputs": [
        {
          "output_type": "stream",
          "name": "stdout",
          "text": [
            "+-------+-------+-----+\n",
            "|Product|Country|Total|\n",
            "+-------+-------+-----+\n",
            "|Orange |China  |4000 |\n",
            "|Orange |USA    |4000 |\n",
            "|Beans  |China  |1500 |\n",
            "|Beans  |Mexico |2000 |\n",
            "|Beans  |USA    |1600 |\n",
            "|Banana |Canada |2000 |\n",
            "|Banana |China  |400  |\n",
            "|Banana |USA    |1000 |\n",
            "|Carrots|Canada |2000 |\n",
            "|Carrots|China  |1200 |\n",
            "|Carrots|USA    |1500 |\n",
            "+-------+-------+-----+\n",
            "\n",
            "+-------+-------+-----+\n",
            "|Product|Country|Total|\n",
            "+-------+-------+-----+\n",
            "| Orange|  China| 4000|\n",
            "| Orange|    USA| 4000|\n",
            "|  Beans|  China| 1500|\n",
            "|  Beans| Mexico| 2000|\n",
            "|  Beans|    USA| 1600|\n",
            "| Banana| Canada| 2000|\n",
            "| Banana|  China|  400|\n",
            "| Banana|    USA| 1000|\n",
            "|Carrots| Canada| 2000|\n",
            "|Carrots|  China| 1200|\n",
            "|Carrots|    USA| 1500|\n",
            "+-------+-------+-----+\n",
            "\n"
          ]
        }
      ]
    },
    {
      "cell_type": "code",
      "source": [
        "simpleData = [(\"James\", \"Sales\", 3000),\n",
        "    (\"Michael\", \"Sales\", 4600),\n",
        "    (\"Robert\", \"Sales\", 4100),\n",
        "    (\"Maria\", \"Finance\", 3000),\n",
        "    (\"James\", \"Sales\", 3000),\n",
        "    (\"Scott\", \"Finance\", 3300),\n",
        "    (\"Jen\", \"Finance\", 3900),\n",
        "    (\"Jeff\", \"Marketing\", 3000),\n",
        "    (\"Kumar\", \"Marketing\", 2000),\n",
        "    (\"Saif\", \"Sales\", 4100)\n",
        "  ]\n",
        "schema = [\"employee_name\", \"department\", \"salary\"]\n",
        "df = spark.createDataFrame(data=simpleData, schema = schema)\n",
        "df.printSchema()\n",
        "df.show(truncate=False)\n"
      ],
      "metadata": {
        "colab": {
          "base_uri": "https://localhost:8080/"
        },
        "id": "T4oc3aySCFHZ",
        "outputId": "358f6054-560b-4048-fcd4-12b49443d7e4"
      },
      "execution_count": null,
      "outputs": [
        {
          "output_type": "stream",
          "name": "stdout",
          "text": [
            "root\n",
            " |-- employee_name: string (nullable = true)\n",
            " |-- department: string (nullable = true)\n",
            " |-- salary: long (nullable = true)\n",
            "\n",
            "+-------------+----------+------+\n",
            "|employee_name|department|salary|\n",
            "+-------------+----------+------+\n",
            "|James        |Sales     |3000  |\n",
            "|Michael      |Sales     |4600  |\n",
            "|Robert       |Sales     |4100  |\n",
            "|Maria        |Finance   |3000  |\n",
            "|James        |Sales     |3000  |\n",
            "|Scott        |Finance   |3300  |\n",
            "|Jen          |Finance   |3900  |\n",
            "|Jeff         |Marketing |3000  |\n",
            "|Kumar        |Marketing |2000  |\n",
            "|Saif         |Sales     |4100  |\n",
            "+-------------+----------+------+\n",
            "\n"
          ]
        }
      ]
    },
    {
      "cell_type": "code",
      "source": [
        "#collect_list() function returns all values from an input column with duplicates.\n",
        "from pyspark.sql.functions import collect_list\n",
        "df.select(collect_list(\"salary\")).show(truncate=False)\n",
        "\n",
        "\n",
        "\n",
        "\n"
      ],
      "metadata": {
        "colab": {
          "base_uri": "https://localhost:8080/"
        },
        "id": "ADIiM4nxCIJ7",
        "outputId": "76cf1063-bc6b-4cfc-ec48-ad82e6dd936f"
      },
      "execution_count": null,
      "outputs": [
        {
          "output_type": "stream",
          "name": "stdout",
          "text": [
            "+------------------------------------------------------------+\n",
            "|collect_list(salary)                                        |\n",
            "+------------------------------------------------------------+\n",
            "|[3000, 4600, 4100, 3000, 3000, 3300, 3900, 3000, 2000, 4100]|\n",
            "+------------------------------------------------------------+\n",
            "\n"
          ]
        }
      ]
    },
    {
      "cell_type": "code",
      "source": [
        "#first() function returns the first element in a column when ignoreNulls is set to true, it returns the first non-null element.\n",
        "from pyspark.sql.functions import first\n",
        "df.select(first(\"salary\")).show(truncate=False)\n"
      ],
      "metadata": {
        "colab": {
          "base_uri": "https://localhost:8080/"
        },
        "id": "O-QX4M-YD3Zq",
        "outputId": "e7c547f6-dd43-4064-c643-b55039acc7f8"
      },
      "execution_count": null,
      "outputs": [
        {
          "output_type": "stream",
          "name": "stdout",
          "text": [
            "+-------------+\n",
            "|first(salary)|\n",
            "+-------------+\n",
            "|3000         |\n",
            "+-------------+\n",
            "\n"
          ]
        }
      ]
    },
    {
      "cell_type": "code",
      "source": [
        "from pyspark.sql.functions import last\n",
        "df.select(last(\"salary\")).show(truncate=False)"
      ],
      "metadata": {
        "colab": {
          "base_uri": "https://localhost:8080/"
        },
        "id": "IGK0MXYoFw0R",
        "outputId": "4bfc4eb0-f65a-420a-c176-6a1dbec49b4b"
      },
      "execution_count": null,
      "outputs": [
        {
          "output_type": "stream",
          "name": "stdout",
          "text": [
            "+------------+\n",
            "|last(salary)|\n",
            "+------------+\n",
            "|4100        |\n",
            "+------------+\n",
            "\n"
          ]
        }
      ]
    },
    {
      "cell_type": "code",
      "source": [
        "from pyspark.sql.functions import first, last, kurtosis, min, mean, skewness \n",
        "from pyspark.sql.functions import stddev, stddev_samp, stddev_pop, sumDistinct\n",
        "from pyspark.sql.functions import variance,var_samp,  var_pop, sum_distinct, sum "
      ],
      "metadata": {
        "id": "SaAjLXChGAHY"
      },
      "execution_count": null,
      "outputs": []
    },
    {
      "cell_type": "code",
      "source": [
        "df.select(skewness(\"salary\")).show(truncate=False)\n"
      ],
      "metadata": {
        "colab": {
          "base_uri": "https://localhost:8080/"
        },
        "id": "KbYrcDlYGC2S",
        "outputId": "6d3d30f5-e4f7-4e09-f46c-047f16786c76"
      },
      "execution_count": null,
      "outputs": [
        {
          "output_type": "stream",
          "name": "stdout",
          "text": [
            "+--------------------+\n",
            "|skewness(salary)    |\n",
            "+--------------------+\n",
            "|-0.12041791181069571|\n",
            "+--------------------+\n",
            "\n"
          ]
        }
      ]
    },
    {
      "cell_type": "code",
      "source": [
        "df.select(stddev(\"salary\"), stddev_samp(\"salary\"), \\\n",
        "    stddev_pop(\"salary\")).show(truncate=False)\n",
        "\n"
      ],
      "metadata": {
        "colab": {
          "base_uri": "https://localhost:8080/"
        },
        "id": "E57zYq3HGXrS",
        "outputId": "7859a670-0e67-4239-88f9-2887b748e4f0"
      },
      "execution_count": null,
      "outputs": [
        {
          "output_type": "stream",
          "name": "stdout",
          "text": [
            "+-------------------+-------------------+------------------+\n",
            "|stddev_samp(salary)|stddev_samp(salary)|stddev_pop(salary)|\n",
            "+-------------------+-------------------+------------------+\n",
            "|765.9416862050705  |765.9416862050705  |726.636084983398  |\n",
            "+-------------------+-------------------+------------------+\n",
            "\n"
          ]
        }
      ]
    },
    {
      "cell_type": "code",
      "source": [
        "df.select(kurtosis(\"salary\")).show(truncate=False)\n",
        "\n",
        "\n"
      ],
      "metadata": {
        "colab": {
          "base_uri": "https://localhost:8080/"
        },
        "id": "CFNPlmbOGfoq",
        "outputId": "e4669b3c-e4e0-4efc-b3f7-f8cc73eb1144"
      },
      "execution_count": null,
      "outputs": [
        {
          "output_type": "stream",
          "name": "stdout",
          "text": [
            "+-------------------+\n",
            "|kurtosis(salary)   |\n",
            "+-------------------+\n",
            "|-0.6467803030303032|\n",
            "+-------------------+\n",
            "\n"
          ]
        }
      ]
    },
    {
      "cell_type": "code",
      "source": [
        "import warnings\n",
        "warnings.filterwarnings('ignore')\n",
        "df.select(sumDistinct(\"salary\")).show(truncate=False)\n"
      ],
      "metadata": {
        "colab": {
          "base_uri": "https://localhost:8080/"
        },
        "id": "ETRTjpHkHt5h",
        "outputId": "df14eb23-4b34-40d5-e4ce-6360cb8bb5b4"
      },
      "execution_count": null,
      "outputs": [
        {
          "output_type": "stream",
          "name": "stdout",
          "text": [
            "+--------------------+\n",
            "|sum(DISTINCT salary)|\n",
            "+--------------------+\n",
            "|20900               |\n",
            "+--------------------+\n",
            "\n"
          ]
        }
      ]
    },
    {
      "cell_type": "code",
      "source": [
        "df.select(sum(\"salary\")).show(truncate=False)"
      ],
      "metadata": {
        "colab": {
          "base_uri": "https://localhost:8080/"
        },
        "id": "dZQ8C57xIBIP",
        "outputId": "e79eb86e-41e3-4e7f-d498-5ce24ab2d1c0"
      },
      "execution_count": null,
      "outputs": [
        {
          "output_type": "stream",
          "name": "stdout",
          "text": [
            "+-----------+\n",
            "|sum(salary)|\n",
            "+-----------+\n",
            "|34000      |\n",
            "+-----------+\n",
            "\n"
          ]
        }
      ]
    }
  ]
}